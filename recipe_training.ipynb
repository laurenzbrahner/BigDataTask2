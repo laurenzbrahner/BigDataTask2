{
 "cells": [
  {
   "cell_type": "code",
   "execution_count": null,
   "metadata": {},
   "outputs": [],
   "source": [
    "!pip install accelerate\n",
    "!pip install datasets\n",
    "!pip install transformers\n",
    "!pip install pandas"
   ]
  },
  {
   "cell_type": "code",
   "execution_count": null,
   "metadata": {},
   "outputs": [],
   "source": [
    "from datasets import load_dataset, Dataset\n",
    "import pandas as pd\n",
    "from transformers import AutoTokenizer, DataCollatorWithPadding\n",
    "\n",
    "URL_test = \"https://raw.githubusercontent.com/laurenzbrahner/BigDataTask2/main/data/Recipes_Test.csv\"\n",
    "URL_training = \"https://raw.githubusercontent.com/laurenzbrahner/BigDataTask2/main/data/Recipes_Training.csv\"\n",
    "URL_validation = \"https://raw.githubusercontent.com/laurenzbrahner/BigDataTask2/main/data/Recipes_Validation.csv\"\n",
    "\n",
    "# Load the CSV files from the URLs\n",
    "df_train = pd.read_csv(URL_training, sep=\";\")\n",
    "df_test = pd.read_csv(URL_test, sep=\";\")\n",
    "df_val = pd.read_csv(URL_validation, sep=\";\")\n",
    "\n",
    "\n",
    "# Map the cuisines to numbers\n",
    "\n",
    "cuisine_mapping = {\n",
    "    \"cajun_creole\": 0,\n",
    "    \"chinese\": 1,\n",
    "    \"french\": 2,\n",
    "    \"indian\": 3,\n",
    "    \"italian\": 4,\n",
    "    \"mexican\": 5,\n",
    "    \"southern_us\": 6,\n",
    "    \"thai\": 7\n",
    "}\n",
    "\n",
    "#df_train['cuisine'] = df_train['cuisine'].map(cuisine_mapping)\n",
    "df_test['cuisine'] = df_test['cuisine'].map(cuisine_mapping)\n",
    "#df_val['cuisine'] = df_val['cuisine'].map(cuisine_mapping)\n",
    "\n",
    "# Create the datasets\n",
    "raw_datasets = {}\n",
    "raw_datasets['train'] = Dataset.from_pandas(df_train)\n",
    "raw_datasets['test'] = Dataset.from_pandas(df_test)\n",
    "raw_datasets['val'] = Dataset.from_pandas(df_val)\n",
    "\n",
    "\n",
    "# Load the tokenizer and the model for pretraining\n",
    "checkpoint = 'MoritzLaurer/DeBERTa-v3-base-mnli-fever-anli'\n",
    "tokenizer = AutoTokenizer.from_pretrained(checkpoint)\n",
    "\n",
    "# Tokenize the data\n",
    "def tokenize_function(examples):\n",
    "    # Tokenisieren der Zutaten und Hinzufügen der 'cuisines' als Labels\n",
    "    tokenized_inputs = tokenizer(examples[\"ingredients\"], truncation=True, padding=\"max_length\")\n",
    "    tokenized_inputs[\"labels\"] = examples[\"cuisine\"]\n",
    "    return tokenized_inputs\n",
    "\n",
    "# Anwenden der tokenize_function auf jeden Datensatz\n",
    "tokenized_datasets = {x: raw_datasets[x].map(tokenize_function, batched=True) for x in raw_datasets}\n",
    "\n",
    "data_collator = DataCollatorWithPadding(tokenizer=tokenizer)\n",
    "\n",
    "\n",
    "\n"
   ]
  },
  {
   "cell_type": "code",
   "execution_count": null,
   "metadata": {},
   "outputs": [],
   "source": [
    "# Check the distribution of the cuisines\n",
    "df_train['cuisine'].value_counts()"
   ]
  },
  {
   "cell_type": "code",
   "execution_count": null,
   "metadata": {},
   "outputs": [],
   "source": [
    "from transformers import TrainingArguments\n",
    "\n",
    "# Define the training arguments\n",
    "training_args = TrainingArguments(\"test-trainer\", evaluation_strategy=\"steps\",\n",
    "                                  num_train_epochs=6, metric_for_best_model=\"accuracy\", load_best_model_at_end=True)"
   ]
  },
  {
   "cell_type": "code",
   "execution_count": null,
   "metadata": {},
   "outputs": [],
   "source": [
    "from sklearn.metrics import f1_score\n",
    "import numpy as np\n",
    "\n",
    "# Define the metrics\n",
    "def compute_metrics(p):\n",
    "    preds = np.argmax(p.predictions, axis=1)\n",
    "    labels = p.label_ids\n",
    "\n",
    "    accuracy = (preds == labels).mean()\n",
    "    macro_f1 = f1_score(labels, preds, average='macro')\n",
    "\n",
    "    return {\"accuracy\": accuracy, \"f1\": macro_f1}"
   ]
  },
  {
   "cell_type": "code",
   "execution_count": null,
   "metadata": {},
   "outputs": [],
   "source": [
    "from transformers import AutoModelForSequenceClassification\n",
    "\n",
    "# Load the model\n",
    "model = AutoModelForSequenceClassification.from_pretrained(checkpoint, num_labels=8, ignore_mismatched_sizes=True)"
   ]
  },
  {
   "cell_type": "code",
   "execution_count": null,
   "metadata": {},
   "outputs": [],
   "source": [
    "from transformers import Trainer\n",
    "\n",
    "# Define the trainer\n",
    "\n",
    "trainer = Trainer(\n",
    "    model,\n",
    "    training_args,\n",
    "    train_dataset=tokenized_datasets[\"train\"],\n",
    "    eval_dataset=tokenized_datasets[\"test\"],\n",
    "    data_collator=data_collator,\n",
    "    tokenizer=tokenizer,\n",
    "    compute_metrics=compute_metrics\n",
    ")"
   ]
  },
  {
   "cell_type": "code",
   "execution_count": null,
   "metadata": {},
   "outputs": [],
   "source": [
    "# Train the model\n",
    "trainer.train()"
   ]
  }
 ],
 "metadata": {
  "language_info": {
   "name": "python"
  }
 },
 "nbformat": 4,
 "nbformat_minor": 2
}
