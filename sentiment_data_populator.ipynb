{
 "cells": [
  {
   "cell_type": "code",
   "execution_count": 16,
   "metadata": {},
   "outputs": [],
   "source": [
    "import pandas as pd\n",
    "\n",
    "# Lesen Sie die CSV-Datei\n",
    "df = pd.read_csv('./data/Sentiment_additional_data_unprocessed.csv')\n",
    "\n",
    "# Filtern Sie die Daten, um nur die Zeilen mit 5 Sternen zu behalten\n",
    "df = df[df['stars'] == 5]\n",
    "\n",
    "# Wählen Sie nur die Spalten 'stars' und 'text' aus\n",
    "df = df[['stars', 'text']]\n",
    "\n",
    "\n",
    "#Rename the label \"stars\" to \"label\"\n",
    "df = df.rename(columns={'stars': 'label'})\n",
    "\n",
    "# 5 Sterne sollen zu 4 Sternen werden\n",
    "df.loc[df['label'] == 5, 'label'] = 4\n",
    "\n",
    "df\n",
    "\n",
    "df_2 = pd.read_csv('./data/Sentiment_Training.csv', sep=';')\n",
    "\n",
    "\n",
    "# Überprüfen Sie die Anzahl der Zeilen in df\n",
    "num_rows = df.shape[0]\n",
    "\n",
    "# Wählen Sie die kleinere Zahl zwischen num_rows und 4000\n",
    "sample_size = min(num_rows, 4000)\n",
    "\n",
    "# Ziehen Sie eine Stichprobe von sample_size Zeilen aus df\n",
    "df_2 = pd.concat([df_2, df.sample(n=sample_size, random_state=42)], ignore_index=True)\n",
    "df_2\n",
    "\n",
    "\n",
    "# Speichern Sie die Daten in einer neuen CSV-Datei, wobei Sie das Semikolon als Trennzeichen und Anführungszeichen für den Text verwenden\n",
    "df_2.to_csv('Sentiment_training_extended.csv', sep=';', quotechar='\"', index=False)"
   ]
  }
 ],
 "metadata": {
  "kernelspec": {
   "display_name": "Python 3",
   "language": "python",
   "name": "python3"
  },
  "language_info": {
   "codemirror_mode": {
    "name": "ipython",
    "version": 3
   },
   "file_extension": ".py",
   "mimetype": "text/x-python",
   "name": "python",
   "nbconvert_exporter": "python",
   "pygments_lexer": "ipython3",
   "version": "3.11.5"
  }
 },
 "nbformat": 4,
 "nbformat_minor": 2
}
