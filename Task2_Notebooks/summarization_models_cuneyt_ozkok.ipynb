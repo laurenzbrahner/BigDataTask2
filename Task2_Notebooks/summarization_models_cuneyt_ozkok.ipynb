{
 "cells": [
  {
   "cell_type": "markdown",
   "metadata": {},
   "source": [
    "# **Summarization: Summarizing news articles with the help of transformers summarization**"
   ]
  },
  {
   "cell_type": "code",
   "execution_count": 1,
   "metadata": {},
   "outputs": [
    {
     "name": "stdout",
     "output_type": "stream",
     "text": [
      "Requirement already satisfied: nltk in c:\\users\\cuney\\anaconda3\\lib\\site-packages (3.8.1)\n",
      "Requirement already satisfied: rouge_score in c:\\users\\cuney\\anaconda3\\lib\\site-packages (0.1.2)\n",
      "Requirement already satisfied: click in c:\\users\\cuney\\anaconda3\\lib\\site-packages (from nltk) (8.0.4)\n",
      "Requirement already satisfied: joblib in c:\\users\\cuney\\anaconda3\\lib\\site-packages (from nltk) (1.2.0)\n",
      "Requirement already satisfied: regex>=2021.8.3 in c:\\users\\cuney\\anaconda3\\lib\\site-packages (from nltk) (2022.7.9)\n",
      "Requirement already satisfied: tqdm in c:\\users\\cuney\\anaconda3\\lib\\site-packages (from nltk) (4.65.0)\n",
      "Requirement already satisfied: absl-py in c:\\users\\cuney\\anaconda3\\lib\\site-packages (from rouge_score) (2.1.0)\n",
      "Requirement already satisfied: numpy in c:\\users\\cuney\\anaconda3\\lib\\site-packages (from rouge_score) (1.24.3)\n",
      "Requirement already satisfied: six>=1.14.0 in c:\\users\\cuney\\anaconda3\\lib\\site-packages (from rouge_score) (1.16.0)\n",
      "Requirement already satisfied: colorama in c:\\users\\cuney\\anaconda3\\lib\\site-packages (from click->nltk) (0.4.6)\n"
     ]
    }
   ],
   "source": [
    "!pip install transformers datasets sacrebleu rouge_score py7zr -q\n",
    "!pip install nltk rouge_score"
   ]
  },
  {
   "cell_type": "markdown",
   "metadata": {},
   "source": [
    "### Import all necessary libraries"
   ]
  },
  {
   "cell_type": "code",
   "execution_count": 12,
   "metadata": {},
   "outputs": [],
   "source": [
    "import gradio as gr\n",
    "from transformers import pipeline\n",
    "\n",
    "import matplotlib.pyplot as plt\n",
    "\n",
    "from datasets import load_metric\n",
    "\n",
    "from transformers import AutoModelForSeq2SeqLM, AutoTokenizer\n",
    "\n",
    "import nltk\n",
    "from nltk.tokenize import sent_tokenize\n",
    "\n",
    "import pandas as pd\n",
    "\n",
    "\n",
    "\n",
    "from rouge_score import rouge_scorer\n"
   ]
  },
  {
   "cell_type": "markdown",
   "metadata": {},
   "source": [
    "### Reading the CSV file with the news articles needed for this demonstration"
   ]
  },
  {
   "cell_type": "code",
   "execution_count": 24,
   "metadata": {},
   "outputs": [],
   "source": [
    "#Read comment in next column!!!\n",
    "\n",
    "df= pd.read_csv(\"Summarization_Training.csv\", sep=\";\")\n",
    "df_test= pd.read_csv(\"Summarization_Test.csv\", sep=\";\")\n",
    "\n"
   ]
  },
  {
   "cell_type": "markdown",
   "metadata": {},
   "source": [
    "### Randomly selecting 30 articles and adding them to a list for later selection"
   ]
  },
  {
   "cell_type": "code",
   "execution_count": 25,
   "metadata": {},
   "outputs": [
    {
     "name": "stdout",
     "output_type": "stream",
     "text": [
      "['Seven demonstrators were arrested for trying to enter the parade path on Sixth Avenue .\\nThe hashtag #StopTheParade was used\\xa0on Twitter Wednesday night to organize the protest .\\nAbout 50 demonstrators met outside New York Public Library on Fifth Avenue before the parade .\\nThousands of people spent the night blocking traffic around the city and chanting slogans .\\nLaw enforcement sources told The Post a lack of arrests during other protests this week inspired the movement .', 'A monkey and gorilla walk into Dublin zoo - and become the best of mates .\\nThe red-capped African mangabey only recently arrived at the zoo .\\nBut before long, the pair appeared to be hugging and having a chit chat .', 'Clashes continue in Venezuela .\\nPresident Nicolas Maduro says he has a peace plan .\\nThree people have been killed in Caracas violence .', 'Time is 5:20 at St Michael and All Angels Church in West Yorkshire .\\nHealth and safety ban has been imposed on winding Victorian clock .\\nRetired policeman has climbed steps each week for 23 years to set it .', 'Eidur Gudjohnsen could rejoin Bolton Wanderers before weekend .\\nBolton boss Neil Lennon expects him to sign before Reading clash .\\nEmile Heskey is also looking for a contract with Bolton .\\nHe is training with the club in a bid to earn a deal at Bolton .', 'NEW: Nuland: \"We are prepared to support a process that the Afghans support\"\\nThe Taliban have a preliminary deal to open an office in Qatar, a statement says .\\nThey want detainees freed from Guantanamo Bay as a condition for talks .\\nIt appears to be their first public offer of talks without a U.S. withdrawal .', 'GP is alleged to have told him faith in Christianity may help him overcome personal problems .', \"Marlboro accused of targeting teenagers in its 'Don't Be A Maybe' campaign .\\nAdverts feature young people partying, snowboarding and playing guitar .\\nAllegedly draw on youth images of 'freedom, risk-taking and falling in love'\\nCigarette firm Philip Morris International accused of 'breaching ethical code'\\nCampaign has been introduced across 50 countries, but banned in Germany .\\nEvery day, up to 100,000 young people globally become addicted to tobacco .\", \"Mohammed Riaz Inayat, 56, flew into a rage when his daughter, Kalsoom Bibi, said she was moving to Dubai to marry a policeman .\\nHe poured gallons of petrol over his family home before setting it alight .\\nThree of Inayat's daughters and a family friend were also in the house .\\nWas found guilty of murdering his wife and arson, but was cleared of attempted murder of his daughters .\", \"The four-bedroom home in Rozelle, Sydney's inner west, sold for $2,265,000 on Saturday .\\nThe house was one of almost 900 auctions yesterday .\\nBrothers Albert and Mario Frisoli were found dead in the lounge room after they were stabbed several times in May 2009 .\\nGiuseppe Di Cianni was sentenced to 30 years in jail last year for the double murder .\\nThe property was sold by Mario's daughters, Albert's children and his de-facto partner Natasha Kourea .\", \"North Korea fires projectiles into the sea before the Pope's arrival .\\nPope Francis is making his first visit to Asia .\\nHis Asia trip is a nod to growing Catholicism outside Europe .\\nPope is expected to hold Mass with Sewol ferry victims, North Korean escapees and former comfort women .\", 'NEW: Video shows a man, identified as Leonard Gonzalez Jr., shooting Byrd Billings .\\nNEW: Other footage in court shows man dressed as ninjas come and go in a red van .\\nWitnesses say that Gonzalez tried to recruit him and others to be part of his team .\\nThe Florida couple known for caring for special-needs kids was shot and killed in 2009 .', \"Ashley Cole is considering his options after revealing staying at Chelsea looks unlikely .\\nLiverpool, Man City, Man United, Real Madrid and even former side Arsenal could move for the left-back this summer .\\nCole was left out of England's World Cup squad .\\nFrank Lampard also yet to be offered new contract by Chelsea .\", \"Last night was the busiest evening for work Christmas parties in Britain .\\nKnown as 'Mad Friday' it marks the start of the Christmas season for many .\\nThere are fears festivities will hit hospitals and police forces in the UK .\\nLast year sales of alcohol rose by 114 per cent compared to average Friday .\\nShoppers are expected to spend  £1.2billion today on 'Panic Saturday'\", 'Mima mounds are grass-covered round or oval hills first discovered in 1841 in Western Washington state .\\nPocket gophers, so named because of their cheek pouches, measure up to 12 inches in length and weigh several hundred grams .', \"James Vale walked into Norwich Magistrates' Court looking for a friend .\\nVale spotted a suitcase containing the computer and stole it .\\nThe 39-year-old thief claimed he woke up the following day asking 'What the hell have I done?'\\nVale had only been released from jail nine days earlier when he stole the computer .\\nVale was jailed for 26 weeks after admitting the latest series of thefts .\", 'Robbie Millward, son of successful Australian coach Ian, had a seizure after taking the drug .\\nHis mother found him and tried to revive him, his inquest heard .\\nMr Millward had a scarred and inflamed heart that could have been caused by the Class A drug .', \"Schools in Tower Hamlets, east London, are among alleged extremist hubs .\\nInquiries into independent Muslim schools in the area in 'early stages'\\nThe borough has one of the strongest Muslim communities in the capital .\\nA Tower Hamlets address was searched by anti-terror police this week .\\nFive schools in Birmingham placed in special measures earlier this year .\\nIslamic extremists had been promoting fundamentalist material .\\nDepartment of Education said it would consider 'any evidence' of extremism .\", \"Former Test star Andrew Flintoff will play in\\xa0KFC T20 Big Bash League .\\nThe 36-year-old came out of retirement last summer to play for Lancashire .\\nFlintoff will link up with ex-Lancs team-mate, Brisbane coach Stuart Law .\\nHe will also do media work with Australia's Network Ten .\\nAshes legend retired from Test cricket in 2009 .\", 'Arrests made in the kidnapping of Turkish Airlines pilots, state news says .\\nGunmen had halted a bus near Beirut, then took away pilots .\\nOthers safely got to a hotel .', \"José Hampson, 78, was convicted of calling a family of travellers 'dirty f****** gypos' during a dispute over a driveway .\\nBut she has now been cleared and had £1,380 of fines overturned .\\nToy shop owner tells of relief after 'sickening' conviction is quashed .\", 'Deputy Prime Minister formally confirms his proposals to reform upper chamber have been abandoned by the Government .\\nBut he tells the House of Commons that he hopes the plans can be revived in the next parliament .\\nHouse of Lords Reform Bill met resistance from rebel Tories and Labour MPs .', \"The Rev Mike Terry and his wife the Rev Nicky-Sue Terry will both be vicars .\\nThey are being installed at St Mary's Church in Warsash, Hampshire today .\\nThe clerics, who married five years ago and are both 52, will share the post .\\nThe village church has been without a permanent priest since May last year .\\nMr Terry, a former Royal Navy Commander, says: 'It's a job share for God'\\nCouple say they will bring more to the job than either could by themselves .\", \"Tracey Cox is becoming far keener on the idea of renewing wedding vows .\\nShe says it's a great way of redefining relationship expectations .\\nIt also gives you an excuse to make up for cheesy first weddings .\\nThe photos from your first wedding were shocking and you’ve since lost two stone .\\nYour wedding was truly cheesy or you're too embarrassed to admit you got married underwater .\\nYou’ve been through a rough time together but emerged, victorious, the other side.\\nYou’ve got lots more money now and want a reason to show off.\\nAll your friends are doing it.\\nYou want an excuse to post glam pictures on your 20 different social media accounts .\\nThere’s a dress you’ve got your eye on that’s horrendously expensive but you could justify buying it if it was a 'wedding' dress (actually, move this to the 'acceptable' pile. If you want it that badly, get the damn thing!)\", 'Didier Drogba targets World Cup glory with African powerhouses Ivory Coast .\\nDrogba scored crucial goal as Ivory Coast clinched qualification for South Africa .\\nIvory Coast exited in group stages at the World Cup finals in Germany in 2006 .', \"Leigh Castergine is suing the New York Mets after her firing last month .\\nClaims she was insulted and humiliated by Jeff Wilpon, the owner's son .\\nLawsuit claims Wilpon became 'fixated' on the idea she was pregnant and unmarried .\", 'The dodgy e-fits were created  to help track down wanted criminals last year .\\nIncludes a female burglar who is dressed like an extra in Downton Abbey .\\nOthers feature a ginger thief who looks like a Harry Potter character .\\nAnd a man whose features are almost entirely obscured by a black hood .', 'Due to budget cuts, the IRS will take longer to send out tax refunds this year, and be less able to help customers with problems .\\nRefund checks could take a week longer to reach taxpayers .\\nFever than half of the people who call the IRS will be able to reach a\\xa0representative,\\xa0according to claims .\\nThey will also be auditing 46,000 fewer people than last year due to the fact that there are\\xa01,800 fewer IRS enforcement officers .\\nThis was revealed in a leaked email from\\xa0IRS Commissioner John Koskinen to his employees .', 'Train struck parade float in Midland, Texas, last week, killing four veterans .\\nNational Transportation Safety Board to examine what could be seen ahead of collision .\\nSeveral videos captured moments leading up to collision .', 'The train system is operating as normal and is the recommended public transport to access protest sites .\\nProtest is limited to parts of Admiralty, Causeway Bay, and Mong Kok and closed to vehicle traffic there .\\nProtests have proven to be an attraction for some visitors .\\nAccess to some hotels via taxi and buses is difficult in affected areas .']\n"
     ]
    }
   ],
   "source": [
    "#Randomly select 15 articles from the CSV-file\n",
    "random_rows = df.sample(n=30, random_state=42)\n",
    "\n",
    "#Create a list of the 15 articles\n",
    "highlights = random_rows['highlights'].to_list()\n",
    "print(highlights)"
   ]
  },
  {
   "cell_type": "markdown",
   "metadata": {},
   "source": [
    "### Initializing the summarization pipeline"
   ]
  },
  {
   "cell_type": "code",
   "execution_count": 15,
   "metadata": {},
   "outputs": [
    {
     "name": "stderr",
     "output_type": "stream",
     "text": [
      "Some weights of PegasusForConditionalGeneration were not initialized from the model checkpoint at google/pegasus-cnn_dailymail and are newly initialized: ['model.decoder.embed_positions.weight', 'model.encoder.embed_positions.weight']\n",
      "You should probably TRAIN this model on a down-stream task to be able to use it for predictions and inference.\n"
     ]
    }
   ],
   "source": [
    "#Initialize the summarization pipeline\n",
    "sum_bart = pipeline(\"summarization\", model=\"facebook/bart-large-cnn\", truncation=True)\n",
    "sum_pegasus =  pipeline(\"summarization\", model=\"google/pegasus-cnn_dailymail\",truncation=True)\n",
    "sum_distilbart =  pipeline(\"summarization\", model=\"sshleifer/distilbart-cnn-12-6\",truncation=True )"
   ]
  },
  {
   "cell_type": "markdown",
   "metadata": {},
   "source": [
    "Calculating Rouge Scores"
   ]
  },
  {
   "cell_type": "code",
   "execution_count": 16,
   "metadata": {},
   "outputs": [
    {
     "data": {
      "text/plain": [
       "'John and .\\nAudrey Cook were discovered alongside their daughter, Maureen .\\nThey were found at Tremarle Home Park in Cornwall .\\nInvestigators say the three died of carbon monoxide .\\npoisoning .'"
      ]
     },
     "execution_count": 16,
     "metadata": {},
     "output_type": "execute_result"
    }
   ],
   "source": [
    "text = df[\"article\"][0]\n",
    "df[\"highlights\"][0]"
   ]
  },
  {
   "cell_type": "code",
   "execution_count": 17,
   "metadata": {},
   "outputs": [
    {
     "data": {
      "text/plain": [
       "\" Bodies of John and Audrey Cook were discovered alongside their daughter, Maureen . Investigators say the three died along with the family's pet dog, of carbon monoxide poisoning from a cooker . The inquests have now opened into the deaths last Saturday in Camborne, Cornwall . It is also believed there was no working carbon . monoxide detector in the static caravan .\""
      ]
     },
     "execution_count": 17,
     "metadata": {},
     "output_type": "execute_result"
    }
   ],
   "source": [
    "pipe_out = sum_distilbart(text)\n",
    "pipe_out[0][\"summary_text\"]"
   ]
  },
  {
   "cell_type": "code",
   "execution_count": 19,
   "metadata": {},
   "outputs": [
    {
     "name": "stdout",
     "output_type": "stream",
     "text": [
      "ROUGE-1 F1 Score: 0.4827586206896552\n",
      "ROUGE-2 F1 Score: 0.3764705882352941\n",
      "ROUGE-L F1 Score: 0.43678160919540227\n"
     ]
    }
   ],
   "source": [
    "    reference_summary = df[\"highlights\"][0]  # Gerçek bir referans özeti ekleyin\n",
    "    generated_summary = pipe_out[0][\"summary_text\"]\n",
    "    scorer = rouge_scorer.RougeScorer(['rouge1', 'rouge2', 'rougeL'], use_stemmer=True)\n",
    "    scores = scorer.score(reference_summary, generated_summary)\n",
    "    print(\"ROUGE-1 F1 Score:\", scores['rouge1'].fmeasure)\n",
    "    print(\"ROUGE-2 F1 Score:\", scores['rouge2'].fmeasure)\n",
    "    print(\"ROUGE-L F1 Score:\", scores['rougeL'].fmeasure)"
   ]
  },
  {
   "cell_type": "markdown",
   "metadata": {},
   "source": [
    "### Defining the news_summarizer function which is the core component of this code"
   ]
  },
  {
   "cell_type": "code",
   "execution_count": 38,
   "metadata": {},
   "outputs": [],
   "source": [
    "#Define the summarization function\n",
    "def news_summarizer(article, target_len,summarizer):\n",
    "    #Dictionary with the possible summarization lengths\n",
    "    size_mapper= {'Short' :50, \"Medium\" :100, \"Long\" :200}\n",
    "    summarizer_mapper={\"Model-Bart\": sum_bart,\"Model-Pegasus\": sum_pegasus,\"Model-distilbart\":sum_distilbart}\n",
    "    target = target_len\n",
    "    #Find the index of the article in the dataframe\n",
    "    index = df[df['highlights']== article].index[0]\n",
    "    #Summarize the article at the given index with the desired length\n",
    "    article_at_i = df[\"article\"][index]\n",
    "    result = summarizer_mapper[summarizer](article_at_i, max_length=size_mapper[target_len])\n",
    "    \n",
    "    result[0][\"summary_text\"] = result[0][\"summary_text\"].replace(\" .<n>\",\".\")\n",
    "    \n",
    "    reference_summary = df[\"highlights\"][index]  # Gerçek bir referans özeti ekleyin\n",
    "    generated_summary = result[0][\"summary_text\"]\n",
    "    scorer = rouge_scorer.RougeScorer(['rouge1', 'rouge2', 'rougeL'], use_stemmer=True)\n",
    "    scores = scorer.score(reference_summary, generated_summary)\n",
    "    #Return the summary\n",
    "    return  df[\"highlights\"][index],result[0]['summary_text'],\"ROUGE-1 F1 Score: {}\\n ROUGE-2 F1 Score: {}\\n ROUGE-L F1 Score: {}\\n \".format (scores[\"rouge1\"].fmeasure, scores[\"rouge2\"].fmeasure,scores[\"rougeL\"].fmeasure)"
   ]
  },
  {
   "cell_type": "markdown",
   "metadata": {},
   "source": [
    "### Finally defining the Gradio UI to use our code, and launching it"
   ]
  },
  {
   "cell_type": "code",
   "execution_count": 39,
   "metadata": {},
   "outputs": [
    {
     "name": "stdout",
     "output_type": "stream",
     "text": [
      "Running on local URL:  http://127.0.0.1:7869\n",
      "\n",
      "To create a public link, set `share=True` in `launch()`.\n"
     ]
    },
    {
     "data": {
      "text/html": [
       "<div><iframe src=\"http://127.0.0.1:7869/\" width=\"100%\" height=\"500\" allow=\"autoplay; camera; microphone; clipboard-read; clipboard-write;\" frameborder=\"0\" allowfullscreen></iframe></div>"
      ],
      "text/plain": [
       "<IPython.core.display.HTML object>"
      ]
     },
     "metadata": {},
     "output_type": "display_data"
    },
    {
     "data": {
      "text/plain": []
     },
     "execution_count": 39,
     "metadata": {},
     "output_type": "execute_result"
    },
    {
     "name": "stderr",
     "output_type": "stream",
     "text": [
      "Your min_length=56 must be inferior than your max_length=50.\n",
      "c:\\Users\\cuney\\anaconda3\\Lib\\site-packages\\transformers\\generation\\utils.py:1279: UserWarning: Unfeasible length constraints: `min_length` (56) is larger than the maximum possible length (50). Generation will stop at the defined maximum length. You should decrease the minimum length and/or increase the maximum length.\n",
      "  warnings.warn(\n",
      "Your min_length=56 must be inferior than your max_length=50.\n"
     ]
    }
   ],
   "source": [
    "#Create the interface\n",
    "radio = gr.Radio(['Short', 'Medium', 'Long'], label='Choose your desired summarization length')\n",
    "dropdown = gr.Dropdown(highlights, label='Choose an article you would like to have summarized')\n",
    "radio_summarizer =gr.Radio([\"Model-Bart\",\"Model-Pegasus\",\"Model-distilbart\"] ,label=\"Choose your desired model\")\n",
    "\n",
    "\n",
    "demo = gr.Interface(\n",
    "    fn=news_summarizer,\n",
    "    inputs=[ dropdown, radio,radio_summarizer],\n",
    "    outputs=[\"text\",\"text\",\"text\",],\n",
    "    title=\"News article summarizer\"\n",
    "    )\n",
    "\n",
    "#Launch the interface\n",
    "demo.launch()"
   ]
  },
  {
   "cell_type": "markdown",
   "metadata": {},
   "source": [
    "## **The entire code in one piece:**"
   ]
  },
  {
   "cell_type": "code",
   "execution_count": null,
   "metadata": {},
   "outputs": [],
   "source": [
    "!pip install transformers datasets sacrebleu rouge_score py7zr -q\n",
    "!pip install nltk rouge_score\n",
    "import gradio as gr\n",
    "from transformers import pipeline\n",
    "import matplotlib.pyplot as plt\n",
    "from datasets import load_metric\n",
    "from transformers import AutoModelForSeq2SeqLM, AutoTokenizer\n",
    "import nltk\n",
    "from nltk.tokenize import sent_tokenize\n",
    "import pandas as pd\n",
    "from rouge_score import rouge_scorer\n",
    "\n",
    "#Read comment in next column!!!\n",
    "df= pd.read_csv(\"Summarization_Training.csv\", sep=\";\")\n",
    "\n",
    "#Randomly select 15 articles from the CSV-file\n",
    "random_rows = df.sample(n=15, random_state=42)\n",
    "\n",
    "#Create a list of the 15 articles\n",
    "highlights = random_rows['highlights'].to_list()\n",
    "\n",
    "\n",
    "\n",
    "#Initialize the summarization pipeline\n",
    "sum_bart = pipeline(\"summarization\", model=\"facebook/bart-large-cnn\", truncation=True)\n",
    "sum_pegasus =  pipeline(\"summarization\", model=\"google/pegasus-cnn_dailymail\",truncation=True)\n",
    "sum_distilbart =  pipeline(\"summarization\", model=\"sshleifer/distilbart-cnn-12-6\",truncation=True )\n",
    "\n",
    "#Define the summarization function\n",
    "def news_summarizer(article, target_len,summarizer):\n",
    "    #Dictionary with the possible summarization lengths\n",
    "    size_mapper= {'Short' :50, \"Medium\" :100, \"Long\" :200}\n",
    "    #Dictionary with the possible Models\n",
    "    summarizer_mapper={\"Model-Bart\": sum_bart,\"Model-Pegasus\": sum_pegasus,\"Model-distilbart\":sum_distilbart}\n",
    "    target = target_len\n",
    "    #Find the index of the article in the dataframe\n",
    "    index = df[df['highlights']== article].index[0]\n",
    "    #Summarize the article at the given index with the desired length\n",
    "    article_at_i = df[\"article\"][index]\n",
    "\n",
    "    result = summarizer_mapper[summarizer](article_at_i, max_length=size_mapper[target_len])\n",
    "    \n",
    "    result[0][\"summary_text\"] = result[0][\"summary_text\"].replace(\" .<n>\",\".\")\n",
    "    #calculating rouge score\n",
    "    reference_summary = df[\"highlights\"][index]  \n",
    "    generated_summary = result[0][\"summary_text\"]\n",
    "    scorer = rouge_scorer.RougeScorer(['rouge1', 'rouge2', 'rougeL'], use_stemmer=True)\n",
    "    scores = scorer.score(reference_summary, generated_summary)\n",
    "    #Return the summary and rouge metrics\n",
    "    return result[0]['summary_text'],\"ROUGE-1 F1 Score: {}\\n ROUGE-2 F1 Score: {}\\n ROUGE-L F1 Score: {}\\n \".format (scores[\"rouge1\"].fmeasure, scores[\"rouge2\"].fmeasure,scores[\"rougeL\"].fmeasure)\n",
    "\n",
    "\n",
    "\n",
    "\n",
    "#Create the interface\n",
    "radio = gr.Radio(['Short', 'Medium', 'Long'], label='Choose your desired summarization length')\n",
    "dropdown = gr.Dropdown(highlights, label='Choose an article you would like to have summarized')\n",
    "radio_summarizer =gr.Radio([\"Model-Bart\",\"Model-Pegasus\",\"Model-distilbart\"] ,label=\"Choose your desired model\")\n",
    "\n",
    "\n",
    "demo = gr.Interface(\n",
    "    fn=news_summarizer,\n",
    "    inputs=[ dropdown, radio,radio_summarizer],\n",
    "    outputs=[\"text\",\"text\"],\n",
    "    title=\"News article summarizer\"\n",
    "    )\n",
    "\n",
    "#Launch the interface\n",
    "demo.launch()"
   ]
  }
 ],
 "metadata": {
  "kernelspec": {
   "display_name": "base",
   "language": "python",
   "name": "python3"
  },
  "language_info": {
   "codemirror_mode": {
    "name": "ipython",
    "version": 3
   },
   "file_extension": ".py",
   "mimetype": "text/x-python",
   "name": "python",
   "nbconvert_exporter": "python",
   "pygments_lexer": "ipython3",
   "version": "3.11.5"
  }
 },
 "nbformat": 4,
 "nbformat_minor": 2
}
