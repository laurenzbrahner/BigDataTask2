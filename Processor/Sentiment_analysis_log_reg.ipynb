{
 "cells": [
  {
   "cell_type": "code",
   "execution_count": 4,
   "metadata": {},
   "outputs": [],
   "source": [
    "import pandas as pd\n"
   ]
  },
  {
   "cell_type": "code",
   "execution_count": 5,
   "metadata": {},
   "outputs": [],
   "source": [
    "URL_test = \"https://raw.githubusercontent.com/laurenzbrahner/BigDataTask2/main/data/Sentiment_Test.csv\"\n",
    "URL_training = \"https://raw.githubusercontent.com/laurenzbrahner/BigDataTask2/main/data/Sentiment_training_extended.csv\"\n",
    "URL_val = \"https://raw.githubusercontent.com/laurenzbrahner/BigDataTask2/main/data/Sentiment_Val.csv\"\n",
    "\n",
    "# Laden Sie die CSV-Dateien von den URLs\n",
    "df_train = pd.read_csv(URL_training, sep=\";\")\n",
    "df_test = pd.read_csv(URL_test, sep=\";\")\n",
    "df_val = pd.read_csv(URL_val, sep=\";\")\n",
    "\n",
    "# 0-3 vs 5 Star Binär mappen\n",
    "star_mapping = {\n",
    "    0: 0,\n",
    "    1: 0,\n",
    "    2: 0,\n",
    "    3: 0,\n",
    "    4: 1\n",
    "}\n",
    "\n",
    "df_train['label'] = df_train['label'].map(star_mapping)\n",
    "df_test['label'] = df_test['label'].map(star_mapping)\n",
    "df_val['label'] = df_val['label'].map(star_mapping)"
   ]
  },
  {
   "cell_type": "code",
   "execution_count": 6,
   "metadata": {},
   "outputs": [
    {
     "data": {
      "text/plain": [
       "label\n",
       "0    6329\n",
       "1    5009\n",
       "Name: count, dtype: int64"
      ]
     },
     "execution_count": 6,
     "metadata": {},
     "output_type": "execute_result"
    }
   ],
   "source": [
    "df_train[\"label\"].value_counts()"
   ]
  },
  {
   "cell_type": "code",
   "execution_count": 7,
   "metadata": {},
   "outputs": [],
   "source": [
    "# Zufällige Auswahl von 1300 Einträgen mit dem Wert 0\n",
    "indices_to_remove = df_train[df_train['label'] == 0].sample(1300, random_state=42).index\n",
    "\n",
    "# Entfernen der ausgewählten Einträge\n",
    "df_train = df_train.drop(indices_to_remove)"
   ]
  },
  {
   "cell_type": "code",
   "execution_count": 8,
   "metadata": {},
   "outputs": [
    {
     "name": "stdout",
     "output_type": "stream",
     "text": [
      "Accuracy: 81.32%\n",
      "Confusion Matrix:\n",
      "[[1682  377]\n",
      " [  90  351]]\n",
      "Classification Report:\n",
      "              precision    recall  f1-score   support\n",
      "\n",
      "           0       0.95      0.82      0.88      2059\n",
      "           1       0.48      0.80      0.60       441\n",
      "\n",
      "    accuracy                           0.81      2500\n",
      "   macro avg       0.72      0.81      0.74      2500\n",
      "weighted avg       0.87      0.81      0.83      2500\n",
      "\n",
      "Accuracy: 81.79%\n",
      "Confusion Matrix:\n",
      "[[1321  296]\n",
      " [  68  314]]\n",
      "Classification Report:\n",
      "              precision    recall  f1-score   support\n",
      "\n",
      "           0       0.95      0.82      0.88      1617\n",
      "           1       0.51      0.82      0.63       382\n",
      "\n",
      "    accuracy                           0.82      1999\n",
      "   macro avg       0.73      0.82      0.76      1999\n",
      "weighted avg       0.87      0.82      0.83      1999\n",
      "\n"
     ]
    },
    {
     "name": "stderr",
     "output_type": "stream",
     "text": [
      "c:\\Users\\user\\AppData\\Local\\Programs\\Python\\Python311\\Lib\\site-packages\\sklearn\\linear_model\\_logistic.py:460: ConvergenceWarning: lbfgs failed to converge (status=1):\n",
      "STOP: TOTAL NO. of ITERATIONS REACHED LIMIT.\n",
      "\n",
      "Increase the number of iterations (max_iter) or scale the data as shown in:\n",
      "    https://scikit-learn.org/stable/modules/preprocessing.html\n",
      "Please also refer to the documentation for alternative solver options:\n",
      "    https://scikit-learn.org/stable/modules/linear_model.html#logistic-regression\n",
      "  n_iter_i = _check_optimize_result(\n"
     ]
    }
   ],
   "source": [
    "# Logistic regression for sentiment analysis\n",
    "from sklearn.linear_model import LogisticRegression\n",
    "from sklearn.feature_extraction.text import CountVectorizer\n",
    "from sklearn.metrics import accuracy_score, confusion_matrix, classification_report\n",
    "\n",
    "# CountVectorizer\n",
    "vectorizer = CountVectorizer()\n",
    "vectorizer.fit(df_train[\"text\"])\n",
    "\n",
    "# Trainingsdaten\n",
    "X_train = vectorizer.transform(df_train[\"text\"])\n",
    "y_train = df_train[\"label\"]\n",
    "\n",
    "# Testdaten\n",
    "X_test = vectorizer.transform(df_test[\"text\"])\n",
    "y_test = df_test[\"label\"]\n",
    "\n",
    "# Validierungsdaten\n",
    "X_val = vectorizer.transform(df_val[\"text\"])\n",
    "y_val = df_val[\"label\"]\n",
    "\n",
    "# Logistic Regression\n",
    "lr = LogisticRegression()\n",
    "lr.fit(X_train, y_train)\n",
    "\n",
    "\n",
    "# Vorhersage\n",
    "y_pred = lr.predict(X_test)\n",
    "\n",
    "# Accuracy\n",
    "print(\"Accuracy: {:.2f}%\".format(accuracy_score(y_test, y_pred) * 100))\n",
    "\n",
    "# Confusion Matrix\n",
    "print(\"Confusion Matrix:\")\n",
    "print(confusion_matrix(y_test, y_pred))\n",
    "\n",
    "# Classification Report\n",
    "print(\"Classification Report:\")\n",
    "print(classification_report(y_test, y_pred))\n",
    "\n",
    "\n",
    "# Validierung\n",
    "y_pred_val = lr.predict(X_val)\n",
    "\n",
    "# Accuracy\n",
    "print(\"Accuracy: {:.2f}%\".format(accuracy_score(y_val, y_pred_val) * 100))\n",
    "\n",
    "# Confusion Matrix\n",
    "print(\"Confusion Matrix:\")\n",
    "print(confusion_matrix(y_val, y_pred_val))\n",
    "\n",
    "# Classification Report\n",
    "print(\"Classification Report:\")\n",
    "print(classification_report(y_val, y_pred_val))\n",
    "\n"
   ]
  }
 ],
 "metadata": {
  "kernelspec": {
   "display_name": "Python 3",
   "language": "python",
   "name": "python3"
  },
  "language_info": {
   "codemirror_mode": {
    "name": "ipython",
    "version": 3
   },
   "file_extension": ".py",
   "mimetype": "text/x-python",
   "name": "python",
   "nbconvert_exporter": "python",
   "pygments_lexer": "ipython3",
   "version": "3.11.5"
  }
 },
 "nbformat": 4,
 "nbformat_minor": 2
}
