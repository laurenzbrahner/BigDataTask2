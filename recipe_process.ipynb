{
 "cells": [
  {
   "cell_type": "code",
   "execution_count": 2,
   "metadata": {},
   "outputs": [],
   "source": [
    "import pandas as pd\n",
    "\n",
    "# Lesen Sie die CSV-Datei\n",
    "df = pd.read_csv('./data/Recipes_Training.csv', sep=';')\n",
    "\n",
    "\n"
   ]
  },
  {
   "cell_type": "code",
   "execution_count": 3,
   "metadata": {},
   "outputs": [],
   "source": [
    "cuisine_mapping = {\n",
    "    \"cajun_creole\": 0,\n",
    "    \"chinese\": 1,\n",
    "    \"french\": 2,\n",
    "    \"indian\": 3,\n",
    "    \"italian\": 4,\n",
    "    \"mexican\": 5,\n",
    "    \"southern_us\": 6,\n",
    "    \"thai\": 7\n",
    "}\n",
    "\n",
    "\n"
   ]
  },
  {
   "cell_type": "code",
   "execution_count": 4,
   "metadata": {},
   "outputs": [],
   "source": [
    "df['cuisine'] = df['cuisine'].map(cuisine_mapping)"
   ]
  },
  {
   "cell_type": "code",
   "execution_count": 8,
   "metadata": {},
   "outputs": [
    {
     "name": "stderr",
     "output_type": "stream",
     "text": [
      "C:\\Users\\Privat\\AppData\\Local\\Temp\\ipykernel_2908\\894048701.py:5: FutureWarning: The frame.append method is deprecated and will be removed from pandas in a future version. Use pandas.concat instead.\n",
      "  df_validation = df_validation.append(df[df['cuisine'] == cuisine_mapping[cuisine]].sample(frac=0.3))\n",
      "C:\\Users\\Privat\\AppData\\Local\\Temp\\ipykernel_2908\\894048701.py:5: FutureWarning: The frame.append method is deprecated and will be removed from pandas in a future version. Use pandas.concat instead.\n",
      "  df_validation = df_validation.append(df[df['cuisine'] == cuisine_mapping[cuisine]].sample(frac=0.3))\n",
      "C:\\Users\\Privat\\AppData\\Local\\Temp\\ipykernel_2908\\894048701.py:5: FutureWarning: The frame.append method is deprecated and will be removed from pandas in a future version. Use pandas.concat instead.\n",
      "  df_validation = df_validation.append(df[df['cuisine'] == cuisine_mapping[cuisine]].sample(frac=0.3))\n",
      "C:\\Users\\Privat\\AppData\\Local\\Temp\\ipykernel_2908\\894048701.py:5: FutureWarning: The frame.append method is deprecated and will be removed from pandas in a future version. Use pandas.concat instead.\n",
      "  df_validation = df_validation.append(df[df['cuisine'] == cuisine_mapping[cuisine]].sample(frac=0.3))\n",
      "C:\\Users\\Privat\\AppData\\Local\\Temp\\ipykernel_2908\\894048701.py:5: FutureWarning: The frame.append method is deprecated and will be removed from pandas in a future version. Use pandas.concat instead.\n",
      "  df_validation = df_validation.append(df[df['cuisine'] == cuisine_mapping[cuisine]].sample(frac=0.3))\n",
      "C:\\Users\\Privat\\AppData\\Local\\Temp\\ipykernel_2908\\894048701.py:5: FutureWarning: The frame.append method is deprecated and will be removed from pandas in a future version. Use pandas.concat instead.\n",
      "  df_validation = df_validation.append(df[df['cuisine'] == cuisine_mapping[cuisine]].sample(frac=0.3))\n",
      "C:\\Users\\Privat\\AppData\\Local\\Temp\\ipykernel_2908\\894048701.py:5: FutureWarning: The frame.append method is deprecated and will be removed from pandas in a future version. Use pandas.concat instead.\n",
      "  df_validation = df_validation.append(df[df['cuisine'] == cuisine_mapping[cuisine]].sample(frac=0.3))\n",
      "C:\\Users\\Privat\\AppData\\Local\\Temp\\ipykernel_2908\\894048701.py:5: FutureWarning: The frame.append method is deprecated and will be removed from pandas in a future version. Use pandas.concat instead.\n",
      "  df_validation = df_validation.append(df[df['cuisine'] == cuisine_mapping[cuisine]].sample(frac=0.3))\n"
     ]
    }
   ],
   "source": [
    "# create validation df with 30% of every cuisine and drop the same data from training df\n",
    "df_validation = pd.DataFrame()\n",
    "\n",
    "for cuisine in cuisine_mapping:\n",
    "    df_validation = df_validation.append(df[df['cuisine'] == cuisine_mapping[cuisine]].sample(frac=0.3))\n",
    "\n",
    "\n",
    "df_validation = df_validation.reset_index(drop=True)\n",
    "\n",
    "df_validation.to_csv('./data/Recipes_Validation.csv', sep=';', index=False)"
   ]
  },
  {
   "cell_type": "code",
   "execution_count": 12,
   "metadata": {},
   "outputs": [
    {
     "data": {
      "text/html": [
       "<div>\n",
       "<style scoped>\n",
       "    .dataframe tbody tr th:only-of-type {\n",
       "        vertical-align: middle;\n",
       "    }\n",
       "\n",
       "    .dataframe tbody tr th {\n",
       "        vertical-align: top;\n",
       "    }\n",
       "\n",
       "    .dataframe thead th {\n",
       "        text-align: right;\n",
       "    }\n",
       "</style>\n",
       "<table border=\"1\" class=\"dataframe\">\n",
       "  <thead>\n",
       "    <tr style=\"text-align: right;\">\n",
       "      <th></th>\n",
       "      <th>id</th>\n",
       "      <th>cuisine</th>\n",
       "      <th>ingredients</th>\n",
       "    </tr>\n",
       "  </thead>\n",
       "  <tbody>\n",
       "    <tr>\n",
       "      <th>0</th>\n",
       "      <td>25693</td>\n",
       "      <td>6</td>\n",
       "      <td>['plain flour', 'ground pepper', 'salt', 'toma...</td>\n",
       "    </tr>\n",
       "    <tr>\n",
       "      <th>1</th>\n",
       "      <td>22213</td>\n",
       "      <td>3</td>\n",
       "      <td>['water', 'vegetable oil', 'wheat', 'salt']</td>\n",
       "    </tr>\n",
       "    <tr>\n",
       "      <th>2</th>\n",
       "      <td>13162</td>\n",
       "      <td>3</td>\n",
       "      <td>['black pepper', 'shallots', 'cornflour', 'cay...</td>\n",
       "    </tr>\n",
       "    <tr>\n",
       "      <th>5</th>\n",
       "      <td>12734</td>\n",
       "      <td>4</td>\n",
       "      <td>['chopped tomatoes', 'fresh basil', 'garlic', ...</td>\n",
       "    </tr>\n",
       "    <tr>\n",
       "      <th>6</th>\n",
       "      <td>5875</td>\n",
       "      <td>4</td>\n",
       "      <td>['pimentos', 'sweet pepper', 'dried oregano', ...</td>\n",
       "    </tr>\n",
       "    <tr>\n",
       "      <th>...</th>\n",
       "      <td>...</td>\n",
       "      <td>...</td>\n",
       "      <td>...</td>\n",
       "    </tr>\n",
       "    <tr>\n",
       "      <th>7994</th>\n",
       "      <td>37433</td>\n",
       "      <td>0</td>\n",
       "      <td>['sugar', 'baking powder', 'canola oil', 'eggs...</td>\n",
       "    </tr>\n",
       "    <tr>\n",
       "      <th>7995</th>\n",
       "      <td>33556</td>\n",
       "      <td>0</td>\n",
       "      <td>['andouille sausage', 'water', 'cajun seasonin...</td>\n",
       "    </tr>\n",
       "    <tr>\n",
       "      <th>7997</th>\n",
       "      <td>7895</td>\n",
       "      <td>0</td>\n",
       "      <td>['fettucine', 'cajun seasoning', 'salt', 'pepp...</td>\n",
       "    </tr>\n",
       "    <tr>\n",
       "      <th>7998</th>\n",
       "      <td>23661</td>\n",
       "      <td>0</td>\n",
       "      <td>['chicken broth', 'crushed tomatoes', 'worcest...</td>\n",
       "    </tr>\n",
       "    <tr>\n",
       "      <th>7999</th>\n",
       "      <td>9463</td>\n",
       "      <td>0</td>\n",
       "      <td>['dried thyme', 'green onions', 'raisins', 'ga...</td>\n",
       "    </tr>\n",
       "  </tbody>\n",
       "</table>\n",
       "<p>5600 rows × 3 columns</p>\n",
       "</div>"
      ],
      "text/plain": [
       "         id  cuisine                                        ingredients\n",
       "0     25693        6  ['plain flour', 'ground pepper', 'salt', 'toma...\n",
       "1     22213        3        ['water', 'vegetable oil', 'wheat', 'salt']\n",
       "2     13162        3  ['black pepper', 'shallots', 'cornflour', 'cay...\n",
       "5     12734        4  ['chopped tomatoes', 'fresh basil', 'garlic', ...\n",
       "6      5875        4  ['pimentos', 'sweet pepper', 'dried oregano', ...\n",
       "...     ...      ...                                                ...\n",
       "7994  37433        0  ['sugar', 'baking powder', 'canola oil', 'eggs...\n",
       "7995  33556        0  ['andouille sausage', 'water', 'cajun seasonin...\n",
       "7997   7895        0  ['fettucine', 'cajun seasoning', 'salt', 'pepp...\n",
       "7998  23661        0  ['chicken broth', 'crushed tomatoes', 'worcest...\n",
       "7999   9463        0  ['dried thyme', 'green onions', 'raisins', 'ga...\n",
       "\n",
       "[5600 rows x 3 columns]"
      ]
     },
     "execution_count": 12,
     "metadata": {},
     "output_type": "execute_result"
    }
   ],
   "source": [
    "# filter the data from training df that is in validation df\n",
    "\n",
    "df = df[~df['id'].isin(df_validation['id'])]  \n",
    "\n",
    "df"
   ]
  }
 ],
 "metadata": {
  "kernelspec": {
   "display_name": "bigD",
   "language": "python",
   "name": "python3"
  },
  "language_info": {
   "codemirror_mode": {
    "name": "ipython",
    "version": 3
   },
   "file_extension": ".py",
   "mimetype": "text/x-python",
   "name": "python",
   "nbconvert_exporter": "python",
   "pygments_lexer": "ipython3",
   "version": "3.9.13"
  }
 },
 "nbformat": 4,
 "nbformat_minor": 2
}
