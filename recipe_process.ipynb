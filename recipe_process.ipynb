{
 "cells": [
  {
   "cell_type": "code",
   "execution_count": 2,
   "metadata": {},
   "outputs": [],
   "source": [
    "import pandas as pd\n",
    "\n",
    "# Lesen Sie die CSV-Datei\n",
    "df = pd.read_csv('./data/Recipes_Training.csv', sep=';')\n",
    "\n",
    "\n"
   ]
  },
  {
   "cell_type": "code",
   "execution_count": 3,
   "metadata": {},
   "outputs": [],
   "source": [
    "cuisine_mapping = {\n",
    "    \"cajun_creole\": 0,\n",
    "    \"chinese\": 1,\n",
    "    \"french\": 2,\n",
    "    \"indian\": 3,\n",
    "    \"italian\": 4,\n",
    "    \"mexican\": 5,\n",
    "    \"southern_us\": 6,\n",
    "    \"thai\": 7\n",
    "}\n",
    "\n",
    "\n"
   ]
  },
  {
   "cell_type": "code",
   "execution_count": 4,
   "metadata": {},
   "outputs": [],
   "source": [
    "df['cuisine'] = df['cuisine'].map(cuisine_mapping)"
   ]
  },
  {
   "cell_type": "code",
   "execution_count": 8,
   "metadata": {},
   "outputs": [
    {
     "name": "stderr",
     "output_type": "stream",
     "text": [
      "C:\\Users\\Privat\\AppData\\Local\\Temp\\ipykernel_2908\\894048701.py:5: FutureWarning: The frame.append method is deprecated and will be removed from pandas in a future version. Use pandas.concat instead.\n",
      "  df_validation = df_validation.append(df[df['cuisine'] == cuisine_mapping[cuisine]].sample(frac=0.3))\n",
      "C:\\Users\\Privat\\AppData\\Local\\Temp\\ipykernel_2908\\894048701.py:5: FutureWarning: The frame.append method is deprecated and will be removed from pandas in a future version. Use pandas.concat instead.\n",
      "  df_validation = df_validation.append(df[df['cuisine'] == cuisine_mapping[cuisine]].sample(frac=0.3))\n",
      "C:\\Users\\Privat\\AppData\\Local\\Temp\\ipykernel_2908\\894048701.py:5: FutureWarning: The frame.append method is deprecated and will be removed from pandas in a future version. Use pandas.concat instead.\n",
      "  df_validation = df_validation.append(df[df['cuisine'] == cuisine_mapping[cuisine]].sample(frac=0.3))\n",
      "C:\\Users\\Privat\\AppData\\Local\\Temp\\ipykernel_2908\\894048701.py:5: FutureWarning: The frame.append method is deprecated and will be removed from pandas in a future version. Use pandas.concat instead.\n",
      "  df_validation = df_validation.append(df[df['cuisine'] == cuisine_mapping[cuisine]].sample(frac=0.3))\n",
      "C:\\Users\\Privat\\AppData\\Local\\Temp\\ipykernel_2908\\894048701.py:5: FutureWarning: The frame.append method is deprecated and will be removed from pandas in a future version. Use pandas.concat instead.\n",
      "  df_validation = df_validation.append(df[df['cuisine'] == cuisine_mapping[cuisine]].sample(frac=0.3))\n",
      "C:\\Users\\Privat\\AppData\\Local\\Temp\\ipykernel_2908\\894048701.py:5: FutureWarning: The frame.append method is deprecated and will be removed from pandas in a future version. Use pandas.concat instead.\n",
      "  df_validation = df_validation.append(df[df['cuisine'] == cuisine_mapping[cuisine]].sample(frac=0.3))\n",
      "C:\\Users\\Privat\\AppData\\Local\\Temp\\ipykernel_2908\\894048701.py:5: FutureWarning: The frame.append method is deprecated and will be removed from pandas in a future version. Use pandas.concat instead.\n",
      "  df_validation = df_validation.append(df[df['cuisine'] == cuisine_mapping[cuisine]].sample(frac=0.3))\n",
      "C:\\Users\\Privat\\AppData\\Local\\Temp\\ipykernel_2908\\894048701.py:5: FutureWarning: The frame.append method is deprecated and will be removed from pandas in a future version. Use pandas.concat instead.\n",
      "  df_validation = df_validation.append(df[df['cuisine'] == cuisine_mapping[cuisine]].sample(frac=0.3))\n"
     ]
    }
   ],
   "source": [
    "# create validation df with 30% of every cuisine\n",
    "df_validation = pd.DataFrame()\n",
    "\n",
    "for cuisine in cuisine_mapping:\n",
    "    df_validation = df_validation.append(df[df['cuisine'] == cuisine_mapping[cuisine]].sample(frac=0.3))\n",
    "\n",
    "df_validation = df_validation.reset_index(drop=True)\n",
    "\n",
    "df_validation.to_csv('./data/Recipes_Validation.csv', sep=';', index=False)"
   ]
  }
 ],
 "metadata": {
  "kernelspec": {
   "display_name": "bigD",
   "language": "python",
   "name": "python3"
  },
  "language_info": {
   "codemirror_mode": {
    "name": "ipython",
    "version": 3
   },
   "file_extension": ".py",
   "mimetype": "text/x-python",
   "name": "python",
   "nbconvert_exporter": "python",
   "pygments_lexer": "ipython3",
   "version": "3.9.13"
  }
 },
 "nbformat": 4,
 "nbformat_minor": 2
}
